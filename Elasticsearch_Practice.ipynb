{
 "cells": [
  {
   "cell_type": "code",
   "execution_count": 1,
   "id": "31657838",
   "metadata": {},
   "outputs": [],
   "source": [
    "# Import packages\n",
    "\n",
    "from elasticsearch import Elasticsearch"
   ]
  },
  {
   "cell_type": "code",
   "execution_count": 4,
   "id": "a94e9d30",
   "metadata": {},
   "outputs": [
    {
     "data": {
      "text/plain": [
       "{'acknowledged': True}"
      ]
     },
     "execution_count": 4,
     "metadata": {},
     "output_type": "execute_result"
    }
   ],
   "source": [
    "# Delete index\n",
    "\n",
    "es.indices.delete(index=\"first_index\")"
   ]
  },
  {
   "cell_type": "code",
   "execution_count": 2,
   "id": "86c52951",
   "metadata": {},
   "outputs": [],
   "source": [
    "# Elastic search configuation\n",
    "\n",
    "es = Elasticsearch(HOST=\"http://localhost\", PORT=9200)\n",
    "es = Elasticsearch()"
   ]
  },
  {
   "cell_type": "code",
   "execution_count": 5,
   "id": "7b729f49",
   "metadata": {},
   "outputs": [
    {
     "data": {
      "text/plain": [
       "{'acknowledged': True, 'shards_acknowledged': True, 'index': 'first_index'}"
      ]
     },
     "execution_count": 5,
     "metadata": {},
     "output_type": "execute_result"
    }
   ],
   "source": [
    "# Creating index\n",
    "\n",
    "es.indices.create(index=\"first_index\")"
   ]
  },
  {
   "cell_type": "code",
   "execution_count": 6,
   "id": "65cc13dc",
   "metadata": {},
   "outputs": [
    {
     "data": {
      "text/plain": [
       "{'acknowledged': True}"
      ]
     },
     "execution_count": 6,
     "metadata": {},
     "output_type": "execute_result"
    }
   ],
   "source": [
    "# Delete index\n",
    "\n",
    "es.indices.delete(index=\"first_index\")"
   ]
  },
  {
   "cell_type": "code",
   "execution_count": 7,
   "id": "cae248bb",
   "metadata": {},
   "outputs": [
    {
     "data": {
      "text/plain": [
       "False"
      ]
     },
     "execution_count": 7,
     "metadata": {},
     "output_type": "execute_result"
    }
   ],
   "source": [
    "es.indices.exists(index=\"first_index\")"
   ]
  },
  {
   "cell_type": "code",
   "execution_count": 8,
   "id": "9989323d",
   "metadata": {},
   "outputs": [
    {
     "name": "stderr",
     "output_type": "stream",
     "text": [
      "C:\\Users\\Ketan Bansal\\AppData\\Local\\Temp\\ipykernel_7948\\4146488943.py:7: DeprecationWarning: The 'body' parameter is deprecated for the 'index' API and will be removed in a future version. Instead use the 'document' parameter. See https://github.com/elastic/elasticsearch-py/issues/1698 for more information\n",
      "  es.index(index=\"cities\", doc_type=\"places\", id=1, body=doc_1)\n",
      "C:\\Tools\\Anaconda\\lib\\site-packages\\elasticsearch\\connection\\base.py:200: ElasticsearchWarning: [types removal] Specifying types in document index requests is deprecated, use the typeless endpoints instead (/{index}/_doc/{id}, /{index}/_doc, or /{index}/_create/{id}).\n",
      "  warnings.warn(message, category=ElasticsearchWarning)\n"
     ]
    },
    {
     "data": {
      "text/plain": [
       "{'_index': 'cities',\n",
       " '_type': 'places',\n",
       " '_id': '1',\n",
       " '_version': 2,\n",
       " 'result': 'updated',\n",
       " '_shards': {'total': 2, 'successful': 1, 'failed': 0},\n",
       " '_seq_no': 3,\n",
       " '_primary_term': 2}"
      ]
     },
     "execution_count": 8,
     "metadata": {},
     "output_type": "execute_result"
    }
   ],
   "source": [
    "# Inserting data\n",
    "\n",
    "doc_1 = {\"city\": \"Paris\", \"country\": \"France\"}\n",
    "doc_2 = {\"city\": \"Vienna\", \"country\": \"Austria\"}\n",
    "doc_3 = {\"city\": \"London\", \"country\": \"England\"}\n",
    "\n",
    "es.index(index=\"cities\", doc_type=\"places\", id=1, body=doc_1)"
   ]
  },
  {
   "cell_type": "code",
   "execution_count": 9,
   "id": "7194c3dc",
   "metadata": {},
   "outputs": [
    {
     "name": "stderr",
     "output_type": "stream",
     "text": [
      "C:\\Users\\Ketan Bansal\\AppData\\Local\\Temp\\ipykernel_7948\\2496611161.py:1: DeprecationWarning: The 'body' parameter is deprecated for the 'index' API and will be removed in a future version. Instead use the 'document' parameter. See https://github.com/elastic/elasticsearch-py/issues/1698 for more information\n",
      "  es.index(index=\"cities\", doc_type=\"places\", id=2, body=doc_2)\n"
     ]
    },
    {
     "data": {
      "text/plain": [
       "{'_index': 'cities',\n",
       " '_type': 'places',\n",
       " '_id': '2',\n",
       " '_version': 1,\n",
       " 'result': 'created',\n",
       " '_shards': {'total': 2, 'successful': 1, 'failed': 0},\n",
       " '_seq_no': 4,\n",
       " '_primary_term': 2}"
      ]
     },
     "execution_count": 9,
     "metadata": {},
     "output_type": "execute_result"
    }
   ],
   "source": [
    "es.index(index=\"cities\", doc_type=\"places\", id=2, body=doc_2)"
   ]
  },
  {
   "cell_type": "code",
   "execution_count": 10,
   "id": "23673f39",
   "metadata": {},
   "outputs": [
    {
     "name": "stderr",
     "output_type": "stream",
     "text": [
      "C:\\Users\\Ketan Bansal\\AppData\\Local\\Temp\\ipykernel_7948\\3344535585.py:1: DeprecationWarning: The 'body' parameter is deprecated for the 'index' API and will be removed in a future version. Instead use the 'document' parameter. See https://github.com/elastic/elasticsearch-py/issues/1698 for more information\n",
      "  es.index(index=\"cities\", doc_type=\"places\", id=3, body=doc_3)\n"
     ]
    },
    {
     "data": {
      "text/plain": [
       "{'_index': 'cities',\n",
       " '_type': 'places',\n",
       " '_id': '3',\n",
       " '_version': 3,\n",
       " 'result': 'updated',\n",
       " '_shards': {'total': 2, 'successful': 1, 'failed': 0},\n",
       " '_seq_no': 5,\n",
       " '_primary_term': 2}"
      ]
     },
     "execution_count": 10,
     "metadata": {},
     "output_type": "execute_result"
    }
   ],
   "source": [
    "es.index(index=\"cities\", doc_type=\"places\", id=3, body=doc_3)"
   ]
  },
  {
   "cell_type": "code",
   "execution_count": 11,
   "id": "a503b6d9",
   "metadata": {},
   "outputs": [
    {
     "name": "stderr",
     "output_type": "stream",
     "text": [
      "C:\\Tools\\Anaconda\\lib\\site-packages\\elasticsearch\\connection\\base.py:200: ElasticsearchWarning: [types removal] Specifying types in document get requests is deprecated, use the /{index}/_doc/{id} endpoint instead.\n",
      "  warnings.warn(message, category=ElasticsearchWarning)\n"
     ]
    },
    {
     "data": {
      "text/plain": [
       "{'_index': 'cities',\n",
       " '_type': 'places',\n",
       " '_id': '1',\n",
       " '_version': 2,\n",
       " '_seq_no': 3,\n",
       " '_primary_term': 2,\n",
       " 'found': True,\n",
       " '_source': {'city': 'Paris', 'country': 'France'}}"
      ]
     },
     "execution_count": 11,
     "metadata": {},
     "output_type": "execute_result"
    }
   ],
   "source": [
    "# Getting the data\n",
    "\n",
    "res = es.get(index=\"cities\", doc_type=\"places\", id=1)\n",
    "\n",
    "res"
   ]
  },
  {
   "cell_type": "code",
   "execution_count": 12,
   "id": "f3dd43f4",
   "metadata": {},
   "outputs": [
    {
     "data": {
      "text/plain": [
       "{'city': 'Paris', 'country': 'France'}"
      ]
     },
     "execution_count": 12,
     "metadata": {},
     "output_type": "execute_result"
    }
   ],
   "source": [
    "# Get the data which is present in the _source key\n",
    "\n",
    "res[\"_source\"]"
   ]
  },
  {
   "cell_type": "code",
   "execution_count": 13,
   "id": "149cbfb8",
   "metadata": {},
   "outputs": [
    {
     "name": "stderr",
     "output_type": "stream",
     "text": [
      "C:\\Users\\Ketan Bansal\\AppData\\Local\\Temp\\ipykernel_7948\\874634818.py:6: DeprecationWarning: The 'body' parameter is deprecated for the 'index' API and will be removed in a future version. Instead use the 'document' parameter. See https://github.com/elastic/elasticsearch-py/issues/1698 for more information\n",
      "  es.index(index=\"english\", doc_type=\"sentences\", id=1, body=doc_1)\n",
      "C:\\Users\\Ketan Bansal\\AppData\\Local\\Temp\\ipykernel_7948\\874634818.py:7: DeprecationWarning: The 'body' parameter is deprecated for the 'index' API and will be removed in a future version. Instead use the 'document' parameter. See https://github.com/elastic/elasticsearch-py/issues/1698 for more information\n",
      "  es.index(index=\"english\", doc_type=\"sentences\", id=2, body=doc_2)\n"
     ]
    },
    {
     "data": {
      "text/plain": [
       "{'_index': 'english',\n",
       " '_type': 'sentences',\n",
       " '_id': '2',\n",
       " '_version': 1,\n",
       " 'result': 'created',\n",
       " '_shards': {'total': 2, 'successful': 1, 'failed': 0},\n",
       " '_seq_no': 1,\n",
       " '_primary_term': 1}"
      ]
     },
     "execution_count": 13,
     "metadata": {},
     "output_type": "execute_result"
    }
   ],
   "source": [
    "# Creating our data\n",
    "\n",
    "doc_1 = {\"sentence\":\"Hack COVID-19 is amazing!\"}\n",
    "doc_2 = {\"sentence\":\"Hack-Quarantine is stunning!\"}\n",
    "\n",
    "es.index(index=\"english\", doc_type=\"sentences\", id=1, body=doc_1)\n",
    "es.index(index=\"english\", doc_type=\"sentences\", id=2, body=doc_2)"
   ]
  },
  {
   "cell_type": "code",
   "execution_count": 14,
   "id": "d456090d",
   "metadata": {},
   "outputs": [
    {
     "name": "stderr",
     "output_type": "stream",
     "text": [
      "C:\\Users\\Ketan Bansal\\AppData\\Local\\Temp\\ipykernel_7948\\2155502530.py:15: DeprecationWarning: The 'body' parameter is deprecated for the 'search' API and will be removed in a future version. Instead use API parameters directly. See https://github.com/elastic/elasticsearch-py/issues/1698 for more information\n",
      "  res = es.search(index=\"english\", body=body)\n"
     ]
    },
    {
     "data": {
      "text/plain": [
       "{'took': 24,\n",
       " 'timed_out': False,\n",
       " '_shards': {'total': 1, 'successful': 1, 'skipped': 0, 'failed': 0},\n",
       " 'hits': {'total': {'value': 2, 'relation': 'eq'},\n",
       "  'max_score': None,\n",
       "  'hits': []}}"
      ]
     },
     "execution_count": 14,
     "metadata": {},
     "output_type": "execute_result"
    }
   ],
   "source": [
    "# Creating our query\n",
    "\n",
    "## Match query \n",
    "\n",
    "body = {\n",
    "    \"from\":0,\n",
    "    \"size\":0,\n",
    "    \"query\": {\n",
    "        \"match\": {\n",
    "            \"sentence\":\"Hack\"\n",
    "        }\n",
    "    }\n",
    "}\n",
    "\n",
    "res = es.search(index=\"english\", body=body)\n",
    "res"
   ]
  },
  {
   "cell_type": "code",
   "execution_count": 15,
   "id": "5b4f891d",
   "metadata": {},
   "outputs": [
    {
     "name": "stderr",
     "output_type": "stream",
     "text": [
      "C:\\Users\\Ketan Bansal\\AppData\\Local\\Temp\\ipykernel_7948\\1638722200.py:11: DeprecationWarning: The 'body' parameter is deprecated for the 'search' API and will be removed in a future version. Instead use API parameters directly. See https://github.com/elastic/elasticsearch-py/issues/1698 for more information\n",
      "  res = es.search(index=\"english\", body=body)\n"
     ]
    },
    {
     "data": {
      "text/plain": [
       "{'took': 1,\n",
       " 'timed_out': False,\n",
       " '_shards': {'total': 1, 'successful': 1, 'skipped': 0, 'failed': 0},\n",
       " 'hits': {'total': {'value': 2, 'relation': 'eq'},\n",
       "  'max_score': 0.19100355,\n",
       "  'hits': [{'_index': 'english',\n",
       "    '_type': 'sentences',\n",
       "    '_id': '2',\n",
       "    '_score': 0.19100355,\n",
       "    '_source': {'sentence': 'Hack-Quarantine is stunning!'}},\n",
       "   {'_index': 'english',\n",
       "    '_type': 'sentences',\n",
       "    '_id': '1',\n",
       "    '_score': 0.17439456,\n",
       "    '_source': {'sentence': 'Hack COVID-19 is amazing!'}}]}}"
      ]
     },
     "execution_count": 15,
     "metadata": {},
     "output_type": "execute_result"
    }
   ],
   "source": [
    "body = {\n",
    "    \"from\":0,\n",
    "    \"size\":2,\n",
    "    \"query\": {\n",
    "        \"match\": {\n",
    "            \"sentence\":\"Hack\"\n",
    "        }\n",
    "    }\n",
    "}\n",
    "\n",
    "res = es.search(index=\"english\", body=body)\n",
    "res"
   ]
  },
  {
   "cell_type": "code",
   "execution_count": 16,
   "id": "c960fa68",
   "metadata": {},
   "outputs": [
    {
     "name": "stderr",
     "output_type": "stream",
     "text": [
      "C:\\Users\\Ketan Bansal\\AppData\\Local\\Temp\\ipykernel_7948\\2252700487.py:11: DeprecationWarning: The 'body' parameter is deprecated for the 'search' API and will be removed in a future version. Instead use API parameters directly. See https://github.com/elastic/elasticsearch-py/issues/1698 for more information\n",
      "  res = es.search(index=\"english\", body=body)\n"
     ]
    },
    {
     "data": {
      "text/plain": [
       "{'took': 1,\n",
       " 'timed_out': False,\n",
       " '_shards': {'total': 1, 'successful': 1, 'skipped': 0, 'failed': 0},\n",
       " 'hits': {'total': {'value': 2, 'relation': 'eq'},\n",
       "  'max_score': 0.9171577,\n",
       "  'hits': [{'_index': 'english',\n",
       "    '_type': 'sentences',\n",
       "    '_id': '2',\n",
       "    '_score': 0.9171577,\n",
       "    '_source': {'sentence': 'Hack-Quarantine is stunning!'}},\n",
       "   {'_index': 'english',\n",
       "    '_type': 'sentences',\n",
       "    '_id': '1',\n",
       "    '_score': 0.17439456,\n",
       "    '_source': {'sentence': 'Hack COVID-19 is amazing!'}}]}}"
      ]
     },
     "execution_count": 16,
     "metadata": {},
     "output_type": "execute_result"
    }
   ],
   "source": [
    "body = {\n",
    "    \"from\":0,\n",
    "    \"size\":2,\n",
    "    \"query\": {\n",
    "        \"match\": {\n",
    "            \"sentence\":\"Hack Quarantine\"\n",
    "        }\n",
    "    }\n",
    "}\n",
    "\n",
    "res = es.search(index=\"english\", body=body)\n",
    "res"
   ]
  },
  {
   "cell_type": "code",
   "execution_count": 17,
   "id": "cd0c64dc",
   "metadata": {},
   "outputs": [
    {
     "name": "stderr",
     "output_type": "stream",
     "text": [
      "C:\\Users\\Ketan Bansal\\AppData\\Local\\Temp\\ipykernel_7948\\3337720337.py:13: DeprecationWarning: The 'body' parameter is deprecated for the 'search' API and will be removed in a future version. Instead use API parameters directly. See https://github.com/elastic/elasticsearch-py/issues/1698 for more information\n",
      "  res = es.search(index=\"english\", body=body)\n"
     ]
    },
    {
     "data": {
      "text/plain": [
       "{'took': 53,\n",
       " 'timed_out': False,\n",
       " '_shards': {'total': 1, 'successful': 1, 'skipped': 0, 'failed': 0},\n",
       " 'hits': {'total': {'value': 1, 'relation': 'eq'},\n",
       "  'max_score': 0.91715777,\n",
       "  'hits': [{'_index': 'english',\n",
       "    '_type': 'sentences',\n",
       "    '_id': '2',\n",
       "    '_score': 0.91715777,\n",
       "    '_source': {'sentence': 'Hack-Quarantine is stunning!'}}]}}"
      ]
     },
     "execution_count": 17,
     "metadata": {},
     "output_type": "execute_result"
    }
   ],
   "source": [
    "# match_phrase \n",
    "\n",
    "body = {\n",
    "    \"from\":0,\n",
    "    \"size\":1,\n",
    "    \"query\": {\n",
    "        \"match_phrase\": {\n",
    "            \"sentence\":\"Hack Quarantine\"\n",
    "        }\n",
    "    }\n",
    "}\n",
    "\n",
    "res = es.search(index=\"english\", body=body)\n",
    "res"
   ]
  },
  {
   "cell_type": "code",
   "execution_count": 18,
   "id": "8fac7b2e",
   "metadata": {},
   "outputs": [
    {
     "name": "stderr",
     "output_type": "stream",
     "text": [
      "C:\\Users\\Ketan Bansal\\AppData\\Local\\Temp\\ipykernel_7948\\1653674289.py:22: DeprecationWarning: The 'body' parameter is deprecated for the 'search' API and will be removed in a future version. Instead use API parameters directly. See https://github.com/elastic/elasticsearch-py/issues/1698 for more information\n",
      "  res = es.search(index=\"english\", body=body)\n"
     ]
    },
    {
     "data": {
      "text/plain": [
       "{'took': 1,\n",
       " 'timed_out': False,\n",
       " '_shards': {'total': 1, 'successful': 1, 'skipped': 0, 'failed': 0},\n",
       " 'hits': {'total': {'value': 1, 'relation': 'eq'},\n",
       "  'max_score': 0.19100355,\n",
       "  'hits': [{'_index': 'english',\n",
       "    '_type': 'sentences',\n",
       "    '_id': '2',\n",
       "    '_score': 0.19100355,\n",
       "    '_source': {'sentence': 'Hack-Quarantine is stunning!'}}]}}"
      ]
     },
     "execution_count": 18,
     "metadata": {},
     "output_type": "execute_result"
    }
   ],
   "source": [
    "# must, must_not and should\n",
    " \n",
    "body = {\n",
    "    \"from\":0,\n",
    "    \"size\":2,\n",
    "    \"query\": {\n",
    "        \"bool\": {\n",
    "            \"must_not\": {\n",
    "                \"match\": {\n",
    "                    \"sentence\":\"COVID-19\"\n",
    "                }\n",
    "            },\n",
    "            \"should\": {\n",
    "                \"match\": {\n",
    "                    \"sentence\": \"Hack\"\n",
    "                }\n",
    "            }\n",
    "        }\n",
    "    }\n",
    "}\n",
    "\n",
    "res = es.search(index=\"english\", body=body)\n",
    "res"
   ]
  },
  {
   "cell_type": "code",
   "execution_count": 19,
   "id": "8bd4ffdd",
   "metadata": {},
   "outputs": [
    {
     "name": "stderr",
     "output_type": "stream",
     "text": [
      "C:\\Users\\Ketan Bansal\\AppData\\Local\\Temp\\ipykernel_7948\\1712548266.py:7: DeprecationWarning: The 'body' parameter is deprecated for the 'index' API and will be removed in a future version. Instead use the 'document' parameter. See https://github.com/elastic/elasticsearch-py/issues/1698 for more information\n",
      "  es.index(index=\"english\", doc_type=\"sentences\", id=1, body=doc_1)\n"
     ]
    },
    {
     "data": {
      "text/plain": [
       "{'_index': 'english',\n",
       " '_type': 'sentences',\n",
       " '_id': '1',\n",
       " '_version': 2,\n",
       " 'result': 'updated',\n",
       " '_shards': {'total': 2, 'successful': 1, 'failed': 0},\n",
       " '_seq_no': 2,\n",
       " '_primary_term': 1}"
      ]
     },
     "execution_count": 19,
     "metadata": {},
     "output_type": "execute_result"
    }
   ],
   "source": [
    "# Updating our data\n",
    "\n",
    "doc_1 = {\"sentence\":\"Hack COVID-19 is amazing!\"}\n",
    "doc_2 = {\"sentence\":\"Hack-Quarantine is stunning!\"}\n",
    "doc_3 = {\"sentence\":\"Hack nCov is great!\"}\n",
    "\n",
    "es.index(index=\"english\", doc_type=\"sentences\", id=1, body=doc_1)"
   ]
  },
  {
   "cell_type": "code",
   "execution_count": 20,
   "id": "e4148e10",
   "metadata": {},
   "outputs": [
    {
     "name": "stderr",
     "output_type": "stream",
     "text": [
      "C:\\Users\\Ketan Bansal\\AppData\\Local\\Temp\\ipykernel_7948\\2768282773.py:1: DeprecationWarning: The 'body' parameter is deprecated for the 'index' API and will be removed in a future version. Instead use the 'document' parameter. See https://github.com/elastic/elasticsearch-py/issues/1698 for more information\n",
      "  es.index(index=\"english\", doc_type=\"sentences\", id=2, body=doc_2)\n"
     ]
    },
    {
     "data": {
      "text/plain": [
       "{'_index': 'english',\n",
       " '_type': 'sentences',\n",
       " '_id': '2',\n",
       " '_version': 2,\n",
       " 'result': 'updated',\n",
       " '_shards': {'total': 2, 'successful': 1, 'failed': 0},\n",
       " '_seq_no': 3,\n",
       " '_primary_term': 1}"
      ]
     },
     "execution_count": 20,
     "metadata": {},
     "output_type": "execute_result"
    }
   ],
   "source": [
    "es.index(index=\"english\", doc_type=\"sentences\", id=2, body=doc_2)"
   ]
  },
  {
   "cell_type": "code",
   "execution_count": 21,
   "id": "a97d77ad",
   "metadata": {},
   "outputs": [
    {
     "name": "stderr",
     "output_type": "stream",
     "text": [
      "C:\\Users\\Ketan Bansal\\AppData\\Local\\Temp\\ipykernel_7948\\374164240.py:1: DeprecationWarning: The 'body' parameter is deprecated for the 'index' API and will be removed in a future version. Instead use the 'document' parameter. See https://github.com/elastic/elasticsearch-py/issues/1698 for more information\n",
      "  es.index(index=\"english\", doc_type=\"sentences\", id=3, body=doc_3)\n"
     ]
    },
    {
     "data": {
      "text/plain": [
       "{'_index': 'english',\n",
       " '_type': 'sentences',\n",
       " '_id': '3',\n",
       " '_version': 1,\n",
       " 'result': 'created',\n",
       " '_shards': {'total': 2, 'successful': 1, 'failed': 0},\n",
       " '_seq_no': 4,\n",
       " '_primary_term': 1}"
      ]
     },
     "execution_count": 21,
     "metadata": {},
     "output_type": "execute_result"
    }
   ],
   "source": [
    "es.index(index=\"english\", doc_type=\"sentences\", id=3, body=doc_3)"
   ]
  },
  {
   "cell_type": "code",
   "execution_count": 22,
   "id": "85fc8d8f",
   "metadata": {},
   "outputs": [
    {
     "name": "stderr",
     "output_type": "stream",
     "text": [
      "C:\\Users\\Ketan Bansal\\AppData\\Local\\Temp\\ipykernel_7948\\101562077.py:13: DeprecationWarning: The 'body' parameter is deprecated for the 'search' API and will be removed in a future version. Instead use API parameters directly. See https://github.com/elastic/elasticsearch-py/issues/1698 for more information\n",
      "  res = es.search(index=\"english\", body=body)\n"
     ]
    },
    {
     "data": {
      "text/plain": [
       "{'took': 871,\n",
       " 'timed_out': False,\n",
       " '_shards': {'total': 1, 'successful': 1, 'skipped': 0, 'failed': 0},\n",
       " 'hits': {'total': {'value': 3, 'relation': 'eq'},\n",
       "  'max_score': 1.0,\n",
       "  'hits': [{'_index': 'english',\n",
       "    '_type': 'sentences',\n",
       "    '_id': '1',\n",
       "    '_score': 1.0,\n",
       "    '_source': {'sentence': 'Hack COVID-19 is amazing!'}},\n",
       "   {'_index': 'english',\n",
       "    '_type': 'sentences',\n",
       "    '_id': '2',\n",
       "    '_score': 1.0,\n",
       "    '_source': {'sentence': 'Hack-Quarantine is stunning!'}},\n",
       "   {'_index': 'english',\n",
       "    '_type': 'sentences',\n",
       "    '_id': '3',\n",
       "    '_score': 1.0,\n",
       "    '_source': {'sentence': 'Hack nCov is great!'}}]}}"
      ]
     },
     "execution_count": 22,
     "metadata": {},
     "output_type": "execute_result"
    }
   ],
   "source": [
    "# regexp query\n",
    "\n",
    "body = {\n",
    "    \"from\":0,\n",
    "    \"size\":3,\n",
    "    \"query\": {\n",
    "        \"regexp\": {\n",
    "            \"sentence\":\".*\"\n",
    "        }\n",
    "    }\n",
    "}\n",
    "\n",
    "res = es.search(index=\"english\", body=body)\n",
    "res"
   ]
  },
  {
   "cell_type": "code",
   "execution_count": null,
   "id": "74e1e230",
   "metadata": {},
   "outputs": [],
   "source": []
  }
 ],
 "metadata": {
  "kernelspec": {
   "display_name": "Python 3 (ipykernel)",
   "language": "python",
   "name": "python3"
  },
  "language_info": {
   "codemirror_mode": {
    "name": "ipython",
    "version": 3
   },
   "file_extension": ".py",
   "mimetype": "text/x-python",
   "name": "python",
   "nbconvert_exporter": "python",
   "pygments_lexer": "ipython3",
   "version": "3.9.12"
  }
 },
 "nbformat": 4,
 "nbformat_minor": 5
}
